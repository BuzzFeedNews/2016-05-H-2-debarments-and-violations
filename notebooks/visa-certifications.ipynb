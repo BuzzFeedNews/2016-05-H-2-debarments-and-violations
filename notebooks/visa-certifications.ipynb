{
 "cells": [
  {
   "cell_type": "markdown",
   "metadata": {},
   "source": [
    "# H-2 Certification Filtering\n",
    "\n",
    "This notebook finds, filters, and calculates the number of workers certified for various employers by the Department of Labor's Office of Foreign Labor Certification. For more details, see [the main project page](https://github.com/BuzzFeedNews/2016-05-H-2-debarments-and-violations)."
   ]
  },
  {
   "cell_type": "markdown",
   "metadata": {},
   "source": [
    "## Load the OFLC certification data"
   ]
  },
  {
   "cell_type": "code",
   "execution_count": 1,
   "metadata": {
    "collapsed": true
   },
   "outputs": [],
   "source": [
    "import pandas as pd"
   ]
  },
  {
   "cell_type": "code",
   "execution_count": 2,
   "metadata": {
    "collapsed": false
   },
   "outputs": [],
   "source": [
    "decisions = pd.read_csv(\n",
    "    \"../data/H-2-certification-decisions.csv\",\n",
    "    parse_dates=[\"last_event_date\"],\n",
    "    low_memory=False\n",
    ").set_index(\"case_no\")"
   ]
  },
  {
   "cell_type": "markdown",
   "metadata": {},
   "source": [
    "The columns in that dataset:"
   ]
  },
  {
   "cell_type": "code",
   "execution_count": 3,
   "metadata": {
    "collapsed": false
   },
   "outputs": [
    {
     "data": {
      "text/plain": [
       "visa_type                           object\n",
       "fy                                   int64\n",
       "last_event_date             datetime64[ns]\n",
       "case_status                         object\n",
       "n_requested                        float64\n",
       "n_certified                          int64\n",
       "is_certified                          bool\n",
       "certification_begin_date            object\n",
       "certification_end_date              object\n",
       "job_title                           object\n",
       "employer_name                       object\n",
       "employer_state                      object\n",
       "employer_city                       object\n",
       "employer_address_1                  object\n",
       "employer_address_2                  object\n",
       "employer_postal_code                object\n",
       "worksite_state                      object\n",
       "worksite_city                       object\n",
       "agent_name                          object\n",
       "organization_flag                   object\n",
       "is_duplicate                        object\n",
       "dtype: object"
      ]
     },
     "execution_count": 3,
     "metadata": {},
     "output_type": "execute_result"
    }
   ],
   "source": [
    "decisions.dtypes"
   ]
  },
  {
   "cell_type": "code",
   "execution_count": 4,
   "metadata": {
    "collapsed": true
   },
   "outputs": [],
   "source": [
    "MAIN_COLUMNS = [\n",
    "    \"employer_name\",\n",
    "    \"employer_city\",\n",
    "    \"employer_state\",\n",
    "    \"case_status\",\n",
    "    \"last_event_date\",\n",
    "    \"n_certified\"\n",
    "]"
   ]
  },
  {
   "cell_type": "markdown",
   "metadata": {},
   "source": [
    "## Popsy Pop certifications since Nov. 11, 2012"
   ]
  },
  {
   "cell_type": "code",
   "execution_count": 5,
   "metadata": {
    "collapsed": false
   },
   "outputs": [
    {
     "data": {
      "text/plain": [
       "106"
      ]
     },
     "execution_count": 5,
     "metadata": {},
     "output_type": "execute_result"
    }
   ],
   "source": [
    "popsy_pop = decisions[\n",
    "    decisions[\"employer_name\"].str.contains(r\"POPSY POP\", na=False) &\n",
    "    (decisions[\"last_event_date\"] > \"2012-11-02\")\n",
    "][MAIN_COLUMNS]\n",
    "popsy_pop.to_csv(\"../data/certification-lists/popsy-pop-since-2012-11-02.csv\")\n",
    "popsy_pop[\"n_certified\"].sum()"
   ]
  },
  {
   "cell_type": "markdown",
   "metadata": {},
   "source": [
    "Additionally, since the DOL's latest release of quarterly data, Popsy Pop has received certification for 34 workers, based on these two applications:\n",
    "\n",
    "- `H-400-15323-974876`: 14 workers, certified on 2016-01-12: https://icert.doleta.gov/index.cfm?event=ehLCJRExternal.dspCert&doc_id=3&visa_class_id=7&id=84153\n",
    "- `H-400-15348-000984`: 20 workers, certified on 2016-03-07: https://icert.doleta.gov/index.cfm?event=ehLCJRExternal.dspCert&doc_id=3&visa_class_id=7&id=87838\n"
   ]
  },
  {
   "cell_type": "markdown",
   "metadata": {},
   "source": [
    "## National Agricultural Consultants"
   ]
  },
  {
   "cell_type": "code",
   "execution_count": 6,
   "metadata": {
    "collapsed": false
   },
   "outputs": [
    {
     "data": {
      "text/plain": [
       "agent_name\n",
       "NATIONAL AGRICULTURAL CONSULTANTS LLC:THERESA WARD     5388\n",
       "NATIONAL AGRICULTURAL CONSULTANTS LLC:WARREN WICKER      52\n",
       "NATIONAL AGRICULTURAL CONSULTANTS:THERESA WARD           15\n",
       "NATIONAL AGRICULTURE CONSULTANTS LLC:THERESA WARD         0\n",
       "NATIONAL AGRICULURAL CONSULTANTS LLC:THERESA WARD        12\n",
       "Name: n_certified, dtype: int64"
      ]
     },
     "execution_count": 6,
     "metadata": {},
     "output_type": "execute_result"
    }
   ],
   "source": [
    "nat_ag = decisions[\n",
    "    decisions[\"agent_name\"].str.contains(r\"\\bNATIONAL AG.* CONSULT\", na=False) &\n",
    "    (decisions[\"last_event_date\"] >= \"2014-08-03\") &\n",
    "    (decisions[\"is_duplicate\"] != True)\n",
    "][MAIN_COLUMNS + [\"agent_name\"]]\n",
    "nat_ag.to_csv(\"../data/certification-lists/national-agricultural-consultants-since-2014-08-03.csv\")\n",
    "nat_ag.groupby(\"agent_name\")[\"n_certified\"].sum()"
   ]
  },
  {
   "cell_type": "code",
   "execution_count": 7,
   "metadata": {
    "collapsed": false
   },
   "outputs": [
    {
     "data": {
      "text/plain": [
       "5467"
      ]
     },
     "execution_count": 7,
     "metadata": {},
     "output_type": "execute_result"
    }
   ],
   "source": [
    "nat_ag[\"n_certified\"].sum()"
   ]
  },
  {
   "cell_type": "markdown",
   "metadata": {},
   "source": [
    "## T. Bell Detasseling"
   ]
  },
  {
   "cell_type": "markdown",
   "metadata": {},
   "source": [
    "*Note: The earliest OFLC data for the H-2A program does not include specific dates of certification, only fiscal years, so the analysis below examines fiscal year 2006 (which began Oct. 1, 2005) through the end of calendar year 2015.*"
   ]
  },
  {
   "cell_type": "code",
   "execution_count": 8,
   "metadata": {
    "collapsed": false
   },
   "outputs": [
    {
     "data": {
      "text/plain": [
       "employer_name\n",
       "BELL'S MELONS & TOM BELLS DETASSELING                           110\n",
       "BELLS MELONS & TOM BELLS DETASSELING #1                         120\n",
       "BELLS MELONS & TOM BELLS DETASSELING #2                          68\n",
       "BELLS MEONS/ TOM BELLS DETASSELING #1                            45\n",
       "T BELL DETASSELING LLC                                         1334\n",
       "T.  BELL DETASSELING LLC                                         40\n",
       "T. BELL DETASSELING LLC                                        2572\n",
       "T. BELL DETASSELING LLC #1                                       16\n",
       "T. BELL DETASSELING LLC #2                                      689\n",
       "T. BELL DETASSELING LLC #3                                      307\n",
       "T. BELL DETASSLEING LLC                                         616\n",
       "T. BELL DETASSLEING LLC #2                                      696\n",
       "TOM & TERI BELLS DBA: BELLS MELONS AND TOM BELL DETASSELING       4\n",
       "TOM & TERRI BELL DBA BELLS MELONS & TOM BELL DETASSELING        192\n",
       "TOM BELL DETASSELING                                              0\n",
       "TOM BELLS DETASSELING #4                                         60\n",
       "Name: n_certified, dtype: int64"
      ]
     },
     "execution_count": 8,
     "metadata": {},
     "output_type": "execute_result"
    }
   ],
   "source": [
    "t_bell = decisions[\n",
    "    decisions[\"employer_name\"].str.contains(r\"BELL.* DETAS\", na=False) &\n",
    "    (decisions[\"fy\"] >= 2006) &\n",
    "    ((decisions[\"fy\"] <= 2015) | (decisions[\"last_event_date\"].dt.year == 2015))\n",
    "][MAIN_COLUMNS]\n",
    "t_bell.to_csv(\"../data/certification-lists/t-bell-fy-2006-through-cy-2015.csv\")\n",
    "t_bell.groupby(\"employer_name\")[\"n_certified\"].sum()"
   ]
  },
  {
   "cell_type": "code",
   "execution_count": 9,
   "metadata": {
    "collapsed": false
   },
   "outputs": [
    {
     "data": {
      "text/plain": [
       "6869"
      ]
     },
     "execution_count": 9,
     "metadata": {},
     "output_type": "execute_result"
    }
   ],
   "source": [
    "t_bell[\"n_certified\"].sum()"
   ]
  },
  {
   "cell_type": "markdown",
   "metadata": {},
   "source": [
    "### Certifications since Jan. 30, 2015\n",
    "\n",
    "... \"the date investigators submitted their final report\""
   ]
  },
  {
   "cell_type": "code",
   "execution_count": 10,
   "metadata": {
    "collapsed": false
   },
   "outputs": [
    {
     "data": {
      "text/plain": [
       "employer_name\n",
       "T. BELL DETASSELING LLC    473\n",
       "Name: n_certified, dtype: int64"
      ]
     },
     "execution_count": 10,
     "metadata": {},
     "output_type": "execute_result"
    }
   ],
   "source": [
    "t_bell_since_20150130 = decisions[\n",
    "    decisions[\"employer_name\"].str.contains(r\"BELL.* DETAS\", na=False) &\n",
    "    (decisions[\"last_event_date\"] > \"2015-01-30\")\n",
    "][MAIN_COLUMNS]\n",
    "t_bell_since_20150130.to_csv(\"../data/certification-lists/t-bell-since-2015-01-30.csv\")\n",
    "t_bell_since_20150130.groupby(\"employer_name\")[\"n_certified\"].sum()"
   ]
  },
  {
   "cell_type": "markdown",
   "metadata": {},
   "source": [
    "## Vasquez Citrus"
   ]
  },
  {
   "cell_type": "code",
   "execution_count": 11,
   "metadata": {
    "collapsed": false
   },
   "outputs": [
    {
     "data": {
      "text/plain": [
       "employer_name\n",
       "JUAN VASQUEZ                      302\n",
       "VASQUEZ CITRUS & HAULING, INC.    451\n",
       "VASQUEZ CITRUS AND HAULING          0\n",
       "Name: n_certified, dtype: int64"
      ]
     },
     "execution_count": 11,
     "metadata": {},
     "output_type": "execute_result"
    }
   ],
   "source": [
    "vasquez_citrus = decisions[\n",
    "    decisions[\"employer_name\"].str.contains(r\"VASQUEZ.* CITRUS|ROBERTO VASQUEZ|JUAN VASQUEZ\", na=False)\n",
    "][MAIN_COLUMNS]\n",
    "vasquez_citrus.to_csv(\"../data/certification-lists/vasquez-citrus.csv\")\n",
    "vasquez_citrus.groupby(\"employer_name\")[\"n_certified\"].sum()"
   ]
  },
  {
   "cell_type": "markdown",
   "metadata": {},
   "source": [
    "Additionally, since the DOL's latest release of quarterly data, Vasquez Citrus, Juan Vasquez, and/or Roberto Vasquez have received certification for 390 workers, based on these three applications:\n",
    "\n",
    "- `H-300-15338-273530`: 49 workers, certified on 2016-01-04: https://icert.doleta.gov/index.cfm?event=ehLCJRExternal.dspCert&doc_id=3&visa_class_id=8&id=84771\n",
    "- `H-300-16004-246335`: 225 workers, certified on 2016-01-20: https://icert.doleta.gov/index.cfm?event=ehLCJRExternal.dspCert&doc_id=3&visa_class_id=8&id=86603\n",
    "- `H-300-16081-864237`: 116 workers, certified on 2016-04-26: https://icert.doleta.gov/index.cfm?event=ehLCJRExternal.dspCert&doc_id=3&visa_class_id=8&id=93175"
   ]
  },
  {
   "cell_type": "markdown",
   "metadata": {},
   "source": [
    "---\n",
    "\n",
    "---\n",
    "\n",
    "---"
   ]
  }
 ],
 "metadata": {
  "kernelspec": {
   "display_name": "Python 3",
   "language": "python",
   "name": "python3"
  },
  "language_info": {
   "codemirror_mode": {
    "name": "ipython",
    "version": 3
   },
   "file_extension": ".py",
   "mimetype": "text/x-python",
   "name": "python",
   "nbconvert_exporter": "python",
   "pygments_lexer": "ipython3",
   "version": "3.4.3"
  }
 },
 "nbformat": 4,
 "nbformat_minor": 0
}
