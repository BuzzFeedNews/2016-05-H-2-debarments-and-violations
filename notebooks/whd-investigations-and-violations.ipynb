{
 "cells": [
  {
   "cell_type": "markdown",
   "metadata": {},
   "source": [
    "# Analysis of Wage and Hour Investigations\n",
    "\n",
    "This notebook analyzes investigations concluded by the Department of Labor's Wage and Hour Division, based on the division's WHISARD database, which BuzzFeed News obtained via a Freedom of Information Act request. The database contains information on employers, violations, fines, and other details corresponding to investigations concluded between October 1, 2001 and March 31, 2015. For more details, see [the main project page](https://github.com/BuzzFeedNews/2016-05-H-2-debarments-and-violations)."
   ]
  },
  {
   "cell_type": "markdown",
   "metadata": {},
   "source": [
    "## Load the data"
   ]
  },
  {
   "cell_type": "code",
   "execution_count": 1,
   "metadata": {
    "collapsed": true
   },
   "outputs": [],
   "source": [
    "import pandas as pd\n",
    "import whisard_loader"
   ]
  },
  {
   "cell_type": "markdown",
   "metadata": {},
   "source": [
    "*Note: `whisard_loader` contains custom code to simplify the process of loading data from the text files WHD provided. It is available [here](https://github.com/BuzzFeedNews/2016-05-H-2-debarments-and-violations/blob/master/notebooks/whisard_loader.py).*"
   ]
  },
  {
   "cell_type": "code",
   "execution_count": 2,
   "metadata": {
    "collapsed": false
   },
   "outputs": [],
   "source": [
    "employers = whisard_loader.load_employers().set_index(\"CASE_ID\")"
   ]
  },
  {
   "cell_type": "code",
   "execution_count": 3,
   "metadata": {
    "collapsed": false
   },
   "outputs": [],
   "source": [
    "cases = whisard_loader.load_cases().set_index(\"CASE_ID\")"
   ]
  },
  {
   "cell_type": "code",
   "execution_count": 4,
   "metadata": {
    "collapsed": true
   },
   "outputs": [],
   "source": [
    "violations = whisard_loader.load_violations().set_index(\"CASE_ID\")"
   ]
  },
  {
   "cell_type": "code",
   "execution_count": 5,
   "metadata": {
    "collapsed": false
   },
   "outputs": [],
   "source": [
    "act_summaries = whisard_loader.load_act_summaries()"
   ]
  },
  {
   "cell_type": "markdown",
   "metadata": {},
   "source": [
    "## Filter to just cases with H-2 violations and concluded 2010–2014"
   ]
  },
  {
   "cell_type": "code",
   "execution_count": 6,
   "metadata": {
    "collapsed": true
   },
   "outputs": [],
   "source": [
    "h2_act_summaries = act_summaries[\n",
    "    act_summaries[\"ACT_ID\"].isin([ \"H2A\", \"H2B\" ]) &\n",
    "    (act_summaries[\"TTL_ACT_VIOLATIONS\"] > 0)\n",
    "]\n",
    "h2_case_ids = h2_act_summaries[\"CASE_ID\"]"
   ]
  },
  {
   "cell_type": "code",
   "execution_count": 7,
   "metadata": {
    "collapsed": false
   },
   "outputs": [],
   "source": [
    "h2_cases_2010_2014 = cases[\n",
    "    cases.index.isin(h2_case_ids) &\n",
    "    (cases[\"DATE_CONCLUDED_YEAR\"] >= 2010) &\n",
    "    (cases[\"DATE_CONCLUDED_YEAR\"] <= 2014)\n",
    "]"
   ]
  },
  {
   "cell_type": "markdown",
   "metadata": {},
   "source": [
    "## Count total cases by year and type"
   ]
  },
  {
   "cell_type": "code",
   "execution_count": 8,
   "metadata": {
    "collapsed": false
   },
   "outputs": [
    {
     "data": {
      "text/plain": [
       "['Full Investigation',\n",
       " 'Limited Investigation',\n",
       " 'Conciliation',\n",
       " 'Self Audit',\n",
       " 'Office Audit']"
      ]
     },
     "execution_count": 8,
     "metadata": {},
     "output_type": "execute_result"
    }
   ],
   "source": [
    "tools_by_frequency = h2_cases_2010_2014[\"INVEST_TOOL_DESC\"].value_counts().index.tolist()\n",
    "tools_by_frequency"
   ]
  },
  {
   "cell_type": "code",
   "execution_count": 9,
   "metadata": {
    "collapsed": false
   },
   "outputs": [],
   "source": [
    "h2_case_counts = h2_cases_2010_2014.reset_index().groupby([\n",
    "    \"DATE_CONCLUDED_YEAR\",\n",
    "    \"INVEST_TOOL_DESC\"\n",
    "])[\"CASE_ID\"].nunique()\\\n",
    "    .unstack()\\\n",
    "    .fillna(0)\\\n",
    "    [tools_by_frequency]\n",
    "h2_case_counts[\"[total]\"] = h2_case_counts.sum(axis=1)"
   ]
  },
  {
   "cell_type": "markdown",
   "metadata": {},
   "source": [
    "### Number of cases w/H-2 violations, by overall investigation type and year concluded:"
   ]
  },
  {
   "cell_type": "code",
   "execution_count": 10,
   "metadata": {
    "collapsed": false
   },
   "outputs": [
    {
     "data": {
      "text/html": [
       "<div>\n",
       "<table border=\"1\" class=\"dataframe\">\n",
       "  <thead>\n",
       "    <tr style=\"text-align: right;\">\n",
       "      <th>INVEST_TOOL_DESC</th>\n",
       "      <th>Full Investigation</th>\n",
       "      <th>Limited Investigation</th>\n",
       "      <th>Conciliation</th>\n",
       "      <th>Self Audit</th>\n",
       "      <th>Office Audit</th>\n",
       "      <th>[total]</th>\n",
       "    </tr>\n",
       "    <tr>\n",
       "      <th>DATE_CONCLUDED_YEAR</th>\n",
       "      <th></th>\n",
       "      <th></th>\n",
       "      <th></th>\n",
       "      <th></th>\n",
       "      <th></th>\n",
       "      <th></th>\n",
       "    </tr>\n",
       "  </thead>\n",
       "  <tbody>\n",
       "    <tr>\n",
       "      <th>2010</th>\n",
       "      <td>92</td>\n",
       "      <td>16</td>\n",
       "      <td>0</td>\n",
       "      <td>0</td>\n",
       "      <td>0</td>\n",
       "      <td>108</td>\n",
       "    </tr>\n",
       "    <tr>\n",
       "      <th>2011</th>\n",
       "      <td>198</td>\n",
       "      <td>17</td>\n",
       "      <td>1</td>\n",
       "      <td>0</td>\n",
       "      <td>1</td>\n",
       "      <td>217</td>\n",
       "    </tr>\n",
       "    <tr>\n",
       "      <th>2012</th>\n",
       "      <td>240</td>\n",
       "      <td>30</td>\n",
       "      <td>1</td>\n",
       "      <td>1</td>\n",
       "      <td>0</td>\n",
       "      <td>272</td>\n",
       "    </tr>\n",
       "    <tr>\n",
       "      <th>2013</th>\n",
       "      <td>228</td>\n",
       "      <td>21</td>\n",
       "      <td>0</td>\n",
       "      <td>0</td>\n",
       "      <td>0</td>\n",
       "      <td>249</td>\n",
       "    </tr>\n",
       "    <tr>\n",
       "      <th>2014</th>\n",
       "      <td>202</td>\n",
       "      <td>34</td>\n",
       "      <td>0</td>\n",
       "      <td>0</td>\n",
       "      <td>0</td>\n",
       "      <td>236</td>\n",
       "    </tr>\n",
       "  </tbody>\n",
       "</table>\n",
       "</div>"
      ],
      "text/plain": [
       "INVEST_TOOL_DESC     Full Investigation  Limited Investigation  Conciliation  \\\n",
       "DATE_CONCLUDED_YEAR                                                            \n",
       "2010                                 92                     16             0   \n",
       "2011                                198                     17             1   \n",
       "2012                                240                     30             1   \n",
       "2013                                228                     21             0   \n",
       "2014                                202                     34             0   \n",
       "\n",
       "INVEST_TOOL_DESC     Self Audit  Office Audit  [total]  \n",
       "DATE_CONCLUDED_YEAR                                     \n",
       "2010                          0             0      108  \n",
       "2011                          0             1      217  \n",
       "2012                          1             0      272  \n",
       "2013                          0             0      249  \n",
       "2014                          0             0      236  "
      ]
     },
     "execution_count": 10,
     "metadata": {},
     "output_type": "execute_result"
    }
   ],
   "source": [
    "h2_case_counts"
   ]
  },
  {
   "cell_type": "code",
   "execution_count": 11,
   "metadata": {
    "collapsed": false
   },
   "outputs": [
    {
     "data": {
      "text/plain": [
       "INVEST_TOOL_DESC\n",
       "Full Investigation        960\n",
       "Limited Investigation     118\n",
       "Conciliation                2\n",
       "Self Audit                  1\n",
       "Office Audit                1\n",
       "[total]                  1082\n",
       "dtype: float64"
      ]
     },
     "execution_count": 11,
     "metadata": {},
     "output_type": "execute_result"
    }
   ],
   "source": [
    "h2_case_counts.sum()"
   ]
  },
  {
   "cell_type": "markdown",
   "metadata": {},
   "source": [
    "### Distinct employer IDs associated with the Full/Limited investigations above:"
   ]
  },
  {
   "cell_type": "code",
   "execution_count": 12,
   "metadata": {
    "collapsed": false
   },
   "outputs": [
    {
     "data": {
      "text/plain": [
       "995"
      ]
     },
     "execution_count": 12,
     "metadata": {},
     "output_type": "execute_result"
    }
   ],
   "source": [
    "h2_cases_2010_2014[\n",
    "    h2_cases_2010_2014[\"INVEST_TOOL_DESC\"].isin([ \n",
    "        \"Full Investigation\", \"Limited Investigation\" \n",
    "    ])\n",
    "].join(employers)[\"employer_id\"].nunique()"
   ]
  },
  {
   "cell_type": "markdown",
   "metadata": {},
   "source": [
    "## Altendorf Transport investigations\n",
    "\n",
    "*Note: Altendorf Harvesting is a DBA of Altendorf Transport.*"
   ]
  },
  {
   "cell_type": "code",
   "execution_count": 13,
   "metadata": {
    "collapsed": false
   },
   "outputs": [],
   "source": [
    "altendorf_cases = employers[\n",
    "    employers[\"ER_TRADE_NAME\"].str.upper().str.contains(r\"ALTENDORF \", na=False) |\n",
    "    employers[\"ER_LEGAL_NAME\"].str.upper().str.contains(r\"ALTENDORF \", na=False)\n",
    "][[\n",
    "    \"ER_LEGAL_NAME\", \n",
    "    \"ER_TRADE_NAME\", \n",
    "    \"ER_CITY\", \n",
    "    \"ER_STATE_ID\" \n",
    "]].join(cases[cases[\"TTL_CASE_VIOLATION\"] > 0][[\n",
    "    \"INVEST_TOOL_DESC\",\n",
    "    \"DATE_CONCLUDED_YEAR\",\n",
    "    \"TTL_CASE_VIOLATION\",\n",
    "    \"AMT_BW_ASSESSED\"\n",
    "]], how=\"inner\").sort_values(\"DATE_CONCLUDED_YEAR\")"
   ]
  },
  {
   "cell_type": "code",
   "execution_count": 14,
   "metadata": {
    "collapsed": false
   },
   "outputs": [
    {
     "data": {
      "text/html": [
       "<div>\n",
       "<table border=\"1\" class=\"dataframe\">\n",
       "  <thead>\n",
       "    <tr style=\"text-align: right;\">\n",
       "      <th>CASE_ID</th>\n",
       "      <th>1410202</th>\n",
       "      <th>1504154</th>\n",
       "      <th>1589410</th>\n",
       "      <th>1589471</th>\n",
       "    </tr>\n",
       "  </thead>\n",
       "  <tbody>\n",
       "    <tr>\n",
       "      <th>ER_LEGAL_NAME</th>\n",
       "      <td>Altendorf Transport, Inc.</td>\n",
       "      <td>Altendorf Transport, Inc.</td>\n",
       "      <td>Altendorf Harvesting</td>\n",
       "      <td>Altendorf Transport Inc.</td>\n",
       "    </tr>\n",
       "    <tr>\n",
       "      <th>ER_TRADE_NAME</th>\n",
       "      <td>Altendorf Harvesting</td>\n",
       "      <td>Altendorf Harvesting</td>\n",
       "      <td>Altendorf Harvesting</td>\n",
       "      <td>Altendorf Harvesting</td>\n",
       "    </tr>\n",
       "    <tr>\n",
       "      <th>ER_CITY</th>\n",
       "      <td>Minto</td>\n",
       "      <td>Minto</td>\n",
       "      <td>Minto</td>\n",
       "      <td>Minto</td>\n",
       "    </tr>\n",
       "    <tr>\n",
       "      <th>ER_STATE_ID</th>\n",
       "      <td>ND</td>\n",
       "      <td>ND</td>\n",
       "      <td>ND</td>\n",
       "      <td>ND</td>\n",
       "    </tr>\n",
       "    <tr>\n",
       "      <th>INVEST_TOOL_DESC</th>\n",
       "      <td>Full Investigation</td>\n",
       "      <td>Conciliation</td>\n",
       "      <td>Conciliation</td>\n",
       "      <td>Full Investigation</td>\n",
       "    </tr>\n",
       "    <tr>\n",
       "      <th>DATE_CONCLUDED_YEAR</th>\n",
       "      <td>2006</td>\n",
       "      <td>2008</td>\n",
       "      <td>2010</td>\n",
       "      <td>2011</td>\n",
       "    </tr>\n",
       "    <tr>\n",
       "      <th>TTL_CASE_VIOLATION</th>\n",
       "      <td>56</td>\n",
       "      <td>1</td>\n",
       "      <td>1</td>\n",
       "      <td>10</td>\n",
       "    </tr>\n",
       "    <tr>\n",
       "      <th>AMT_BW_ASSESSED</th>\n",
       "      <td>1956.12</td>\n",
       "      <td>1214.5</td>\n",
       "      <td>690.03</td>\n",
       "      <td>19158.9</td>\n",
       "    </tr>\n",
       "  </tbody>\n",
       "</table>\n",
       "</div>"
      ],
      "text/plain": [
       "CASE_ID                                1410202                    1504154  \\\n",
       "ER_LEGAL_NAME        Altendorf Transport, Inc.  Altendorf Transport, Inc.   \n",
       "ER_TRADE_NAME             Altendorf Harvesting       Altendorf Harvesting   \n",
       "ER_CITY                                  Minto                      Minto   \n",
       "ER_STATE_ID                                 ND                         ND   \n",
       "INVEST_TOOL_DESC            Full Investigation               Conciliation   \n",
       "DATE_CONCLUDED_YEAR                       2006                       2008   \n",
       "TTL_CASE_VIOLATION                          56                          1   \n",
       "AMT_BW_ASSESSED                        1956.12                     1214.5   \n",
       "\n",
       "CASE_ID                           1589410                   1589471  \n",
       "ER_LEGAL_NAME        Altendorf Harvesting  Altendorf Transport Inc.  \n",
       "ER_TRADE_NAME        Altendorf Harvesting      Altendorf Harvesting  \n",
       "ER_CITY                             Minto                     Minto  \n",
       "ER_STATE_ID                            ND                        ND  \n",
       "INVEST_TOOL_DESC             Conciliation        Full Investigation  \n",
       "DATE_CONCLUDED_YEAR                  2010                      2011  \n",
       "TTL_CASE_VIOLATION                      1                        10  \n",
       "AMT_BW_ASSESSED                    690.03                   19158.9  "
      ]
     },
     "execution_count": 14,
     "metadata": {},
     "output_type": "execute_result"
    }
   ],
   "source": [
    "altendorf_cases.T"
   ]
  },
  {
   "cell_type": "code",
   "execution_count": 15,
   "metadata": {
    "collapsed": false
   },
   "outputs": [
    {
     "data": {
      "text/plain": [
       "23019.510000000002"
      ]
     },
     "execution_count": 15,
     "metadata": {},
     "output_type": "execute_result"
    }
   ],
   "source": [
    "altendorf_cases[\"AMT_BW_ASSESSED\"].sum()"
   ]
  },
  {
   "cell_type": "markdown",
   "metadata": {},
   "source": [
    "## T. Bell Detasseling investigations"
   ]
  },
  {
   "cell_type": "code",
   "execution_count": 16,
   "metadata": {
    "collapsed": false
   },
   "outputs": [],
   "source": [
    "t_bell_cases = employers[\n",
    "    employers[\"ER_TRADE_NAME\"].str.upper().str.contains(r\"\\bT.* BELL DETAS\", na=False) |\n",
    "    employers[\"ER_LEGAL_NAME\"].str.upper().str.contains(r\"\\bT.* BELL DETAS\", na=False)\n",
    "][[\n",
    "    \"ER_LEGAL_NAME\", \n",
    "    \"ER_TRADE_NAME\", \n",
    "    \"ER_CITY\", \n",
    "    \"ER_STATE_ID\" \n",
    "]].join(cases[[\n",
    "    \"INVEST_TOOL_DESC\",\n",
    "    \"DATE_CONCLUDED_YEAR\",\n",
    "    \"TTL_CASE_VIOLATION\",\n",
    "    \"AMT_BW_ASSESSED\"\n",
    "]]).sort_values(\"DATE_CONCLUDED_YEAR\")"
   ]
  },
  {
   "cell_type": "code",
   "execution_count": 17,
   "metadata": {
    "collapsed": false
   },
   "outputs": [
    {
     "data": {
      "text/html": [
       "<div>\n",
       "<table border=\"1\" class=\"dataframe\">\n",
       "  <thead>\n",
       "    <tr style=\"text-align: right;\">\n",
       "      <th>CASE_ID</th>\n",
       "      <th>1622241</th>\n",
       "      <th>1704521</th>\n",
       "      <th>1732562</th>\n",
       "    </tr>\n",
       "  </thead>\n",
       "  <tbody>\n",
       "    <tr>\n",
       "      <th>ER_LEGAL_NAME</th>\n",
       "      <td>T Bell Detasseling LLC</td>\n",
       "      <td>T. Bell Detasseling L.L.C.</td>\n",
       "      <td>T Bell Detasseling, LLC</td>\n",
       "    </tr>\n",
       "    <tr>\n",
       "      <th>ER_TRADE_NAME</th>\n",
       "      <td>T Bell Detasseling LLC</td>\n",
       "      <td>T. Bell Detasseling L.L.C.</td>\n",
       "      <td>T Bell Detasseling, LLC</td>\n",
       "    </tr>\n",
       "    <tr>\n",
       "      <th>ER_CITY</th>\n",
       "      <td>Lone Tree</td>\n",
       "      <td>Lone Tree</td>\n",
       "      <td>Lone Tree</td>\n",
       "    </tr>\n",
       "    <tr>\n",
       "      <th>ER_STATE_ID</th>\n",
       "      <td>IA</td>\n",
       "      <td>IA</td>\n",
       "      <td>IA</td>\n",
       "    </tr>\n",
       "    <tr>\n",
       "      <th>INVEST_TOOL_DESC</th>\n",
       "      <td>Full Investigation</td>\n",
       "      <td>Full Investigation</td>\n",
       "      <td>Full Investigation</td>\n",
       "    </tr>\n",
       "    <tr>\n",
       "      <th>DATE_CONCLUDED_YEAR</th>\n",
       "      <td>2012</td>\n",
       "      <td>2013</td>\n",
       "      <td>2015</td>\n",
       "    </tr>\n",
       "    <tr>\n",
       "      <th>TTL_CASE_VIOLATION</th>\n",
       "      <td>1413</td>\n",
       "      <td>1</td>\n",
       "      <td>52</td>\n",
       "    </tr>\n",
       "    <tr>\n",
       "      <th>AMT_BW_ASSESSED</th>\n",
       "      <td>0</td>\n",
       "      <td>0</td>\n",
       "      <td>0</td>\n",
       "    </tr>\n",
       "  </tbody>\n",
       "</table>\n",
       "</div>"
      ],
      "text/plain": [
       "CASE_ID                             1622241                     1704521  \\\n",
       "ER_LEGAL_NAME        T Bell Detasseling LLC  T. Bell Detasseling L.L.C.   \n",
       "ER_TRADE_NAME        T Bell Detasseling LLC  T. Bell Detasseling L.L.C.   \n",
       "ER_CITY                           Lone Tree                   Lone Tree   \n",
       "ER_STATE_ID                              IA                          IA   \n",
       "INVEST_TOOL_DESC         Full Investigation          Full Investigation   \n",
       "DATE_CONCLUDED_YEAR                    2012                        2013   \n",
       "TTL_CASE_VIOLATION                     1413                           1   \n",
       "AMT_BW_ASSESSED                           0                           0   \n",
       "\n",
       "CASE_ID                              1732562  \n",
       "ER_LEGAL_NAME        T Bell Detasseling, LLC  \n",
       "ER_TRADE_NAME        T Bell Detasseling, LLC  \n",
       "ER_CITY                            Lone Tree  \n",
       "ER_STATE_ID                               IA  \n",
       "INVEST_TOOL_DESC          Full Investigation  \n",
       "DATE_CONCLUDED_YEAR                     2015  \n",
       "TTL_CASE_VIOLATION                        52  \n",
       "AMT_BW_ASSESSED                            0  "
      ]
     },
     "execution_count": 17,
     "metadata": {},
     "output_type": "execute_result"
    }
   ],
   "source": [
    "t_bell_cases.T"
   ]
  },
  {
   "cell_type": "code",
   "execution_count": 18,
   "metadata": {
    "collapsed": false
   },
   "outputs": [],
   "source": [
    "t_bell_violations = violations[\n",
    "    (violations[\"violation_found\"] == True)\n",
    "].ix[t_bell_cases.index]"
   ]
  },
  {
   "cell_type": "code",
   "execution_count": 19,
   "metadata": {
    "collapsed": false
   },
   "outputs": [
    {
     "data": {
      "text/plain": [
       "ACT_ID  VIOLATION_DESC                                                  \n",
       "H2A     23 Failed to make available required records (2008 & 2010 Rules)    1297\n",
       "        30 FTC - abandonment/term for cause reqs (2008 & 2010 Rules)          58\n",
       "        19 Failed to comply - 3/4-guarantee req (2008 & 2010 Rules)           58\n",
       "        01 H-2A workers given preferential treatment (2008 & 2010 Rules)      50\n",
       "MSPA    09 Fail to pay wages when due                                          1\n",
       "        01 Fail to disclose conditions to workers                              1\n",
       "H2A     48 H2ALC provided invalid \"fixed-site\" info (2008 & 2010 Rules)        1\n",
       "Name: NUM_EES_REPRESENTD, dtype: float64"
      ]
     },
     "execution_count": 19,
     "metadata": {},
     "output_type": "execute_result"
    }
   ],
   "source": [
    "t_bell_violations.groupby([ \"ACT_ID\", \"VIOLATION_DESC\"])\\\n",
    "    [\"NUM_EES_REPRESENTD\"].sum()\\\n",
    "    .sort_values(ascending=False)"
   ]
  },
  {
   "cell_type": "markdown",
   "metadata": {},
   "source": [
    "---\n",
    "\n",
    "---\n",
    "\n",
    "---"
   ]
  }
 ],
 "metadata": {
  "kernelspec": {
   "display_name": "Python 3",
   "language": "python",
   "name": "python3"
  },
  "language_info": {
   "codemirror_mode": {
    "name": "ipython",
    "version": 3
   },
   "file_extension": ".py",
   "mimetype": "text/x-python",
   "name": "python",
   "nbconvert_exporter": "python",
   "pygments_lexer": "ipython3",
   "version": "3.4.3"
  }
 },
 "nbformat": 4,
 "nbformat_minor": 0
}
